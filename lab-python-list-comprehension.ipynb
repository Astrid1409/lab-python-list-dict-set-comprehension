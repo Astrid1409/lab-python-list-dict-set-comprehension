{
 "cells": [
  {
   "cell_type": "markdown",
   "id": "25d7736c-ba17-4aff-b6bb-66eba20fbf4e",
   "metadata": {},
   "source": [
    "# Lab | List, Dict and Set Comprehension"
   ]
  },
  {
   "cell_type": "markdown",
   "id": "7dd3cbde-675a-4b81-92c3-f728846dbe06",
   "metadata": {},
   "source": [
    "## Exercise: Managing Customer Orders Optimized with Comprehension"
   ]
  },
  {
   "cell_type": "markdown",
   "id": "5d500160-2fb7-4777-b5e4-09d45ebaf328",
   "metadata": {},
   "source": [
    "In the previous exercise, you developed a program to manage customer orders and inventory. Now, let's take it a step further and incorporate comprehension into your code.\n",
    "\n",
    "Follow the steps below to complete the exercise:\n",
    "\n",
    "1. Review your code from the previous exercise and identify areas where you can apply comprehension to simplify and streamline your code. \n",
    "\n",
    "    - *Hint: Apply it to initialize inventory, updating the inventory and printing the updated inventory.*\n",
    "    \n",
    "    - For example, in initializing the inventory, we could have:\n",
    "    \n",
    "        ```python\n",
    "        def initialize_inventory(products):\n",
    "            inventory = {product: int(input(f\"Enter the quantity of {product}s available: \")) for product in products}\n",
    "            return inventory\n",
    "\n",
    "        ```\n",
    "<br>\n",
    "    \n",
    "    \n",
    "2. Modify the function get_customer_orders so it prompts the user to enter the number of customer orders and gathers the product names using a loop and user input. Use comprehension.\n",
    "\n",
    "3. Add a new function to calculate the total price of the customer order. For each product in customer_orders, prompt the user to enter the price of that product. Use comprehension to calculate the total price. Note: assume that the user can only have 1 unit of each product.\n",
    "\n",
    "4. Modify the update_inventory function to remove the product from the inventory if its quantity becomes zero after fulfilling the customer orders. Use comprehension to filter out the products with a quantity of zero from the inventory.\n",
    "\n",
    "5. Print the total price of the customer order.\n",
    "\n",
    "Your code should produce output similar to the following:\n",
    "\n",
    "```python\n",
    "Enter the quantity of t-shirts available:  5\n",
    "Enter the quantity of mugs available:  4\n",
    "Enter the quantity of hats available:  3\n",
    "Enter the quantity of books available:  2\n",
    "Enter the quantity of keychains available:  1\n",
    "Enter the number of customer orders:  2\n",
    "Enter the name of a product that a customer wants to order:  hat\n",
    "Enter the name of a product that a customer wants to order:  keychain\n",
    "\n",
    "Order Statistics:\n",
    "Total Products Ordered: 2\n",
    "Percentage of Unique Products Ordered: 40.0\n",
    "\n",
    "Updated Inventory:\n",
    "t-shirt: 5\n",
    "mug: 4\n",
    "hat: 2\n",
    "book: 2\n",
    "Enter the price of keychain:  5\n",
    "Enter the price of hat:  10\n",
    "Total Price: 15.0\n",
    "\n",
    "```\n"
   ]
  },
  {
   "cell_type": "markdown",
   "id": "b818447e-ff48-45de-9031-7246c7c0b66c",
   "metadata": {},
   "source": [
    "1.Review your code from the previous exercise and identify areas where you can apply comprehension to simplify and streamline your code.\n",
    "Hint: Apply it to initialize inventory, updating the inventory and printing the updated inventory.\r\n",
    "\r\n",
    "For example, in initializing the inventory, we could have:\r\n",
    "\r\n",
    "def initialize_inventory(products):\r\n",
    "    inventory = {product: int(input(f\"Enter the quantity of {product}s available: \")) for product in products}\r\n",
    "    return inventory"
   ]
  },
  {
   "cell_type": "code",
   "execution_count": 1,
   "id": "71b3201a-fde0-45c6-9730-3f27a10d7d5a",
   "metadata": {},
   "outputs": [],
   "source": [
    "#1 \n",
    "products = [\"t-shirt\", \"mug\", \"hat\", \"book\", \"keychain\"]\n",
    "def initialize_inventory(products):\n",
    "    inventory = {product: int(input(f\"Enter the quantity of {product}s available: \")) for product in products}\n",
    "    return inventory\n",
    "\n"
   ]
  },
  {
   "cell_type": "code",
   "execution_count": 3,
   "id": "bf66179e-3678-42f2-8ac6-a4e7182fe2a6",
   "metadata": {},
   "outputs": [
    {
     "name": "stdin",
     "output_type": "stream",
     "text": [
      "Enter the quantity of t-shirts available:  4\n",
      "Enter the quantity of mugs available:  5\n",
      "Enter the quantity of hats available:  4\n",
      "Enter the quantity of books available:  4\n",
      "Enter the quantity of keychains available:  3\n"
     ]
    }
   ],
   "source": [
    "inventory = initialize_inventory(products)"
   ]
  },
  {
   "cell_type": "code",
   "execution_count": 5,
   "id": "8147e685-f81e-4180-89fe-319d3fde71ca",
   "metadata": {},
   "outputs": [
    {
     "data": {
      "text/plain": [
       "dict"
      ]
     },
     "execution_count": 5,
     "metadata": {},
     "output_type": "execute_result"
    }
   ],
   "source": [
    "type(inventory)"
   ]
  },
  {
   "cell_type": "markdown",
   "id": "f123d5cd-ce43-475d-bcdb-04f6d2afe9a9",
   "metadata": {},
   "source": [
    "\n",
    "2.Modify the function get_customer_orders so it prompts the user to enter the number of customer orders and gathers the product names using a loop and user input. Use comprehension."
   ]
  },
  {
   "cell_type": "code",
   "execution_count": 7,
   "id": "7cf6801c-47dc-47c8-99e1-60b238745f5a",
   "metadata": {},
   "outputs": [],
   "source": [
    "#2\n",
    "def get_customer_orders():\n",
    "    num_order = int(input(\"Cuantos productos quieres ordenar\"))\n",
    "    custumer_orders = [input(\"dime que productos quieres?\") for i in range( num_order)]\n",
    "    return custumer_orders"
   ]
  },
  {
   "cell_type": "code",
   "execution_count": 9,
   "id": "4937a49a-6cb0-454e-a1a3-559e6c326556",
   "metadata": {},
   "outputs": [
    {
     "name": "stdin",
     "output_type": "stream",
     "text": [
      "Cuantos productos quieres ordenar 3\n",
      "dime que productos quieres? hat\n",
      "dime que productos quieres? book\n",
      "dime que productos quieres? mug\n"
     ]
    }
   ],
   "source": [
    "custumer_orders = get_customer_orders()"
   ]
  },
  {
   "cell_type": "code",
   "execution_count": 11,
   "id": "89f888df-d667-41f2-836f-57a93591eb84",
   "metadata": {},
   "outputs": [
    {
     "name": "stdout",
     "output_type": "stream",
     "text": [
      "['hat', 'book', 'mug']\n"
     ]
    },
    {
     "data": {
      "text/plain": [
       "list"
      ]
     },
     "execution_count": 11,
     "metadata": {},
     "output_type": "execute_result"
    }
   ],
   "source": [
    "print(custumer_orders)\n",
    "type(custumer_orders)"
   ]
  },
  {
   "cell_type": "markdown",
   "id": "ae4e1969-2f62-4d8d-8e2d-11794fd99c4b",
   "metadata": {},
   "source": [
    "3.Add a new function to calculate the total price of the customer order. For each product in customer_orders, prompt the user to enter the price of that product. Use comprehension to calculate the total price. Note: assume that the user can only have 1 unit of each product."
   ]
  },
  {
   "cell_type": "code",
   "execution_count": 13,
   "id": "78e2fd90-48aa-4d2c-ab13-ed387220e24f",
   "metadata": {},
   "outputs": [],
   "source": [
    "#3\n",
    "def total_price():\n",
    "    total_price = sum([int(input(\"dime el precio de\")) for _ in range(len(custumer_orders))])\n",
    "    return total_price"
   ]
  },
  {
   "cell_type": "code",
   "execution_count": 21,
   "id": "04f097f3-afca-409f-901e-326d0cf4511b",
   "metadata": {},
   "outputs": [
    {
     "name": "stdin",
     "output_type": "stream",
     "text": [
      "dime el precio de 43\n",
      "dime el precio de 34\n",
      "dime el precio de 2\n"
     ]
    },
    {
     "name": "stdout",
     "output_type": "stream",
     "text": [
      "el total de la orden es 79\n"
     ]
    }
   ],
   "source": [
    "total_orden = total_price()\n",
    "print(\"el total de la orden es\", total_orden)"
   ]
  },
  {
   "cell_type": "markdown",
   "id": "9677540f-fcf8-444c-b8e5-fc8832efb352",
   "metadata": {},
   "source": [
    "4.Modify the update_inventory function to remove the product from the inventory if its quantity becomes zero after fulfilling the customer orders. Use comprehension to filter out the products with a quantity of zero from the inventory."
   ]
  },
  {
   "cell_type": "code",
   "execution_count": 23,
   "id": "45c54639-683e-48d8-a17f-d7ef60e0a14d",
   "metadata": {},
   "outputs": [],
   "source": [
    "#4\n",
    "def update_inventory(custumer_orders,inventory):\n",
    "    for product in custumer_orders:\n",
    "        if product in inventory and inventory[product] > 0:\n",
    "            inventory[product] -=1\n",
    "    inventory = {product: quantity for product, quantity in inventory.items() if quantity > 0}\n",
    "    return inventory"
   ]
  },
  {
   "cell_type": "code",
   "execution_count": 27,
   "id": "c3da2334-e399-46f5-bc8e-7ecf1066f090",
   "metadata": {},
   "outputs": [],
   "source": [
    "final_inventory = update_inventory(custumer_orders, inventory)"
   ]
  },
  {
   "cell_type": "code",
   "execution_count": 29,
   "id": "52b1fe33-30ba-49c8-8af0-753de33c2c6f",
   "metadata": {},
   "outputs": [
    {
     "data": {
      "text/plain": [
       "{'t-shirt': 4, 'mug': 4, 'hat': 3, 'book': 3, 'keychain': 3}"
      ]
     },
     "execution_count": 29,
     "metadata": {},
     "output_type": "execute_result"
    }
   ],
   "source": [
    "final_inventory"
   ]
  },
  {
   "cell_type": "markdown",
   "id": "088af49b-aa03-4c8f-90ba-10b68714b6b1",
   "metadata": {},
   "source": [
    "5. Print the total price of the customer order."
   ]
  },
  {
   "cell_type": "code",
   "execution_count": 31,
   "id": "0d7717d6-52bf-4e87-b7f1-0e130477b058",
   "metadata": {},
   "outputs": [
    {
     "name": "stdout",
     "output_type": "stream",
     "text": [
      "79\n"
     ]
    }
   ],
   "source": [
    "#5\n",
    "print(total_orden)"
   ]
  },
  {
   "cell_type": "code",
   "execution_count": null,
   "id": "f24e7901-e602-450a-b796-0304367f4fd8",
   "metadata": {},
   "outputs": [],
   "source": []
  }
 ],
 "metadata": {
  "kernelspec": {
   "display_name": "Python 3 (ipykernel)",
   "language": "python",
   "name": "python3"
  },
  "language_info": {
   "codemirror_mode": {
    "name": "ipython",
    "version": 3
   },
   "file_extension": ".py",
   "mimetype": "text/x-python",
   "name": "python",
   "nbconvert_exporter": "python",
   "pygments_lexer": "ipython3",
   "version": "3.12.4"
  }
 },
 "nbformat": 4,
 "nbformat_minor": 5
}
